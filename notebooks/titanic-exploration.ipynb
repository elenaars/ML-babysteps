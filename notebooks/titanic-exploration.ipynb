{
 "cells": [
  {
   "cell_type": "markdown",
   "metadata": {
    "slideshow": {
     "slide_type": "slide"
    }
   },
   "source": [
    "# Basic data exploration - Titanic. \n",
    "\n",
    "### based on the part of the homework 1 of the ML course at MCS Department SPbU \n",
    "\n",
    "### https://github.com/spbu-math-cs/ml-course\n"
   ]
  },
  {
   "cell_type": "markdown",
   "metadata": {
    "id": "QXhmTiQHImLp"
   },
   "source": [
    "**1.** Describe this dataset: What is the distribution of women/men in it? How many passengers were in each class? What is the average/minimum/maximum age of the passengers? How many passengers survived?"
   ]
  },
  {
   "cell_type": "code",
   "execution_count": null,
   "metadata": {
    "ExecuteTime": {
     "end_time": "2024-10-19T10:53:17.408681Z",
     "start_time": "2024-10-19T10:53:17.323849Z"
    },
    "id": "FGCmQXuIIdmn"
   },
   "outputs": [],
   "source": [
    "import pandas as pd\n",
    "import numpy as np\n",
    "\n",
    "url = \"https://raw.githubusercontent.com/datasciencedojo/datasets/master/titanic.csv\"\n",
    "data = pd.read_csv(url)\n",
    "\n",
    "print(data.head())\n",
    "\n",
    "print(data.columns)\n",
    "\n",
    "gender_distribution = data['Sex'].value_counts()\n",
    "\n",
    "print(\"Gender Distribution (Count):\")\n",
    "print(gender_distribution)\n",
    "\n",
    "\n",
    "gender_percentage = data['Sex'].value_counts(normalize=True) * 100\n",
    "\n",
    "print(\"\\nGender Distribution (Percentage):\")\n",
    "print(gender_percentage)\n",
    "\n",
    "class_counts = data['Pclass'].value_counts()\n",
    "\n",
    "print(\"Passenger Class Distribution (Count):\")\n",
    "print(class_counts)\n",
    "\n",
    "print(\"Passenger Mean Age: \", np.mean(data['Age']))\n",
    "print(\"Passenger Max Age: \", np.max(data['Age']))\n",
    "print(\"Passenger Min Age: \", np.min(data['Age']))\n",
    "\n",
    "survivers_count = data[data['Survived'] == 1].shape[0]\n",
    "\n",
    "print(\"Survivers (Count): \", survivers_count)\n",
    "\n",
    "survivers_percentage = data[data['Survived'] ==1].shape[0]*100 / data.shape[0]\n",
    "\n",
    "print(\"Survivers (Percentage): \", survivers_percentage)\n"
   ]
  },
  {
   "cell_type": "markdown",
   "metadata": {
    "id": "1ahIW-TCI2r3"
   },
   "source": [
    "**2.** Is it true that women survived more often than men?\t\n",
    "Which passengers survived more often: those with cheaper or more expensive tickets? \n",
    "Is it true that younger passengers survived more often than older ones?"
   ]
  },
  {
   "cell_type": "code",
   "execution_count": null,
   "metadata": {
    "ExecuteTime": {
     "end_time": "2024-10-19T10:55:20.622771Z",
     "start_time": "2024-10-19T10:55:20.135493Z"
    },
    "collapsed": false
   },
   "outputs": [],
   "source": [
    "import matplotlib.pyplot as plt\n",
    "\n",
    "women_survived = data[(data['Sex'] == 'female') & (data['Survived'] == 1)].shape[0]\n",
    "total_women = data[data['Sex'] == 'female'].shape[0]\n",
    "proportion_women_survived = women_survived / total_women\n",
    "\n",
    "men_survived = data[(data['Sex'] == 'male') & (data['Survived'] == 1)].shape[0]\n",
    "total_men = data[data['Sex'] == 'male'].shape[0]\n",
    "proportion_men_survived = men_survived / total_men\n",
    "\n",
    "# Display the proportions\n",
    "print(f'Proportion of women survived: {proportion_women_survived}')\n",
    "print(f'Proportion of men survived: {proportion_men_survived}')\n",
    "\n",
    "median_fare = data['Fare'].median()\n",
    "high_fare = data[data['Fare'] > median_fare]\n",
    "low_fare = data[data['Fare'] <= median_fare]\n",
    "\n",
    "high_fare_survived = high_fare[high_fare['Survived'] == 1].shape[0]\n",
    "total_high_fare = high_fare.shape[0]\n",
    "proportion_high_fare_survived = high_fare_survived / total_high_fare\n",
    "\n",
    "# Calculate the proportion of pet owners in the low-income group\n",
    "low_fare_survived = low_fare[low_fare['Survived'] == 1].shape[0]\n",
    "total_low_fare = low_fare.shape[0]\n",
    "proportion_low_fare_survived = low_fare_survived / total_low_fare\n",
    "\n",
    "# Display the proportions\n",
    "print(f'Proportion of high-ticket price people survived: {proportion_high_fare_survived}')\n",
    "print(f'Proportion of low-ticket price people survived: {proportion_low_fare_survived}')\n",
    "\n",
    "\n",
    "\n",
    "fare_bins = pd.cut(data['Fare'], bins=50)  \n",
    "\n",
    "survivers = data[data['Survived'] == 1]\n",
    "total_counts = data.groupby(fare_bins, observed=True).size()\n",
    "surviver_counts = survivers.groupby(fare_bins, observed=True).size()\n",
    "proportions = surviver_counts / total_counts\n",
    "\n",
    "# Plot the proportions\n",
    "plt.figure(figsize=(10, 6))\n",
    "proportions.plot(kind='bar', alpha=0.7)\n",
    "plt.xlabel('Fare Bins')\n",
    "plt.ylabel('Proportion of Survivers')\n",
    "plt.title('Proportion of Survivers in Different Ticket price Levels')\n",
    "plt.show()\n",
    "\n",
    "median_age = data['Age'].median()\n",
    "old = data[data['Age'] > median_age]\n",
    "young = data[data['Age'] <= median_age]\n",
    "\n",
    "old_survived = old[old['Survived'] == 1].shape[0]\n",
    "total_old = old.shape[0]\n",
    "proportion_old_survived = old_survived / total_old\n",
    "\n",
    "# Calculate the proportion of pet owners in the low-income group\n",
    "young_survived = young[young['Survived'] == 1].shape[0]\n",
    "total_young = young.shape[0]\n",
    "proportion_young_survived = young_survived / total_young\n",
    "\n",
    "# Display the proportions\n",
    "print(f'Proportion of old people survived: {proportion_old_survived}')\n",
    "print(f'Proportion of young people survived: {proportion_young_survived}')\n"
   ]
  },
  {
   "cell_type": "markdown",
   "metadata": {
    "id": "MrxN8Y7OI6Vu"
   },
   "source": [
    "**3.** Group the records by passenger class, and calculate the average age in each group. \n",
    "Is it true that this value is approximately the same across all classes?\n"
   ]
  },
  {
   "cell_type": "code",
   "execution_count": null,
   "metadata": {
    "ExecuteTime": {
     "end_time": "2024-10-19T10:58:09.229634Z",
     "start_time": "2024-10-19T10:58:09.208302Z"
    },
    "collapsed": false
   },
   "outputs": [],
   "source": [
    "def avg_age_by_class(data):\n",
    "    class_groups = data.groupby('Pclass')\n",
    "    for group_name, group in class_groups:\n",
    "        average_age = np.nanmean(group['Age'])\n",
    "        print(f'Passenger class: {group_name}, Average age: {average_age}')\n",
    "    return\n",
    "\n",
    "avg_age_by_class(data)"
   ]
  },
  {
   "cell_type": "markdown",
   "metadata": {
    "id": "2Ee80P1KI86d"
   },
   "source": [
    "**4.** Find all the features with missing data. \n",
    "Typically, algorithms cannot handle such data by default. \n",
    "Suggest several methods for handling missing data and specify the advantages/disadvantages of each. \n",
    "Illustrate at least two of the suggested methods using this dataset as an example."
   ]
  },
  {
   "cell_type": "code",
   "execution_count": null,
   "metadata": {
    "ExecuteTime": {
     "end_time": "2024-10-19T11:00:26.924282Z",
     "start_time": "2024-10-19T11:00:26.865218Z"
    },
    "collapsed": false
   },
   "outputs": [],
   "source": [
    "from sklearn.impute import KNNImputer\n",
    "\n",
    "# Find columns with any NaN values\n",
    "columns_with_nan = data.columns[data.isnull().any()]\n",
    "\n",
    "# Display columns with NaN values\n",
    "print(\"Columns with NaN values:\", columns_with_nan)\n",
    "\n",
    "# Make a copy of the dataset for each imputation method\n",
    "data_mean_imputation = data.copy()\n",
    "data_ffill_imputation = data.copy()\n",
    "data_knn_imputation = data.copy()\n",
    "\n",
    "# 1. Mean Imputation\n",
    "data_mean_imputation['Age'].fillna(data['Age'].mean(), inplace=True)\n",
    "\n",
    "# 2. Forward Fill Imputation\n",
    "data_ffill_imputation['Age'].fillna(method='ffill', inplace=True)\n",
    "\n",
    "# 3. KNN Imputation\n",
    "# Select only numeric columns for imputation\n",
    "numeric_cols = data_knn_imputation.select_dtypes(include=[np.number]).columns\n",
    "non_numeric_cols = data_knn_imputation.select_dtypes(exclude=[np.number]).columns\n",
    "\n",
    "# Apply KNN imputation only on numeric columns\n",
    "imputer = KNNImputer(n_neighbors=5)\n",
    "data_knn_imputation[numeric_cols] = imputer.fit_transform(data_knn_imputation[numeric_cols])\n",
    "\n",
    "# Reintegrate non-numeric columns\n",
    "data_knn_imputation[non_numeric_cols] = data[non_numeric_cols]\n",
    "\n",
    "# Display the results\n",
    "#print(\"Mean Imputation:\\n\", data_mean_imputation.head())\n",
    "#print(\"\\nForward Fill Imputation:\\n\", data_ffill_imputation.head())\n",
    "#print(\"\\nKNN Imputation:\\n\", data_knn_imputation.head())\n",
    "print('*****Original data*****')\n",
    "avg_age_by_class(data)\n",
    "print('*****Ffill-imputed data*****')\n",
    "avg_age_by_class(data_ffill_imputation)\n",
    "print('*****Mean-imputed data*****')\n",
    "avg_age_by_class(data_mean_imputation)\n",
    "print('*****Knn-imputed data*****')\n",
    "avg_age_by_class(data_knn_imputation)\n"
   ]
  },
  {
   "cell_type": "markdown",
   "metadata": {
    "id": "eEnOCJkEJp6I"
   },
   "source": [
    "**5.** Display a histogram of the age distribution for each passenger class (use the data from the tasks involving pandas). \n",
    "As a result, you should obtain three histograms displayed side by side using the *plt.subplots* function. Each histogram should be normalized. \n",
    "Pay attention to the *figsize*, *sharey*, and *sharex* parameters of the *plt.subplots* function. The *bins* and *density* parameters of the *plt.hist* function may also be useful.\n"
   ]
  },
  {
   "cell_type": "code",
   "execution_count": null,
   "metadata": {
    "ExecuteTime": {
     "end_time": "2024-10-19T11:04:18.738831Z",
     "start_time": "2024-10-19T11:04:18.555099Z"
    },
    "collapsed": false
   },
   "outputs": [],
   "source": [
    "# Group the data by 'Pclass'\n",
    "class_groups = data.groupby('Pclass')\n",
    "\n",
    "# Create subplots\n",
    "fig, axs = plt.subplots(nrows=1, ncols=3, figsize=(15, 5), sharey=True, sharex=True)\n",
    "\n",
    "# Plot histograms for each class\n",
    "for (pclass, group), ax in zip(class_groups, axs):\n",
    "    ax.hist(group['Age'].dropna(), bins=25, density=True)\n",
    "    ax.set_title(f'Class {pclass}')\n",
    "    ax.set_xlabel('Age')\n",
    "    ax.set_ylabel('Density')\n",
    "\n",
    "plt.tight_layout()\n",
    "plt.show()\n"
   ]
  }
 ],
 "metadata": {
  "colab": {
   "name": "HW1.ipynb",
   "provenance": []
  },
  "kernelspec": {
   "display_name": "venv",
   "language": "python",
   "name": "python3"
  },
  "language_info": {
   "codemirror_mode": {
    "name": "ipython",
    "version": 3
   },
   "file_extension": ".py",
   "mimetype": "text/x-python",
   "name": "python",
   "nbconvert_exporter": "python",
   "pygments_lexer": "ipython3",
   "version": "3.12.3"
  }
 },
 "nbformat": 4,
 "nbformat_minor": 1
}
