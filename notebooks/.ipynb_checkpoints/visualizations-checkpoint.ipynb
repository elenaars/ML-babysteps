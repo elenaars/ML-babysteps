{
 "cells": [
  {
   "cell_type": "markdown",
   "metadata": {},
   "source": [
    "Visualization babysteps. \n",
    "We start with the code of Ch 3 of 'Data Science from scratch' by Joel Grus\n",
    "But we'll work with real gdp data"
   ]
  },
  {
   "cell_type": "code",
   "execution_count": 1,
   "metadata": {},
   "outputs": [],
   "source": [
    "# all imports at the top\n",
    "from matplotlib import pyplot as plt\n",
    "import ipywidgets as widgets\n",
    "import pandas as pd\n",
    "import requests\n",
    "import zipfile\n",
    "from io import BytesIO\n",
    "from pathlib import Path\n",
    "from IPython.display import clear_output, display\n"
   ]
  },
  {
   "cell_type": "code",
   "execution_count": 2,
   "metadata": {},
   "outputs": [],
   "source": [
    "# helper functions\n",
    "def download_extract_gdp_data(url = 'https://api.worldbank.org/v2/en/indicator/NY.GDP.MKTP.PP.CD?downloadformat=csv', destination_file : Path = Path('../data/gdp_ppp.csv'))-> None:\n",
    "    \"\"\"\n",
    "    Download and extract GDP data from the World Bank API.\n",
    "    \n",
    "    Parameters:\n",
    "    url (str): The URL to download the data from.\n",
    "    destination_file (Path): The path to the destination file where it saves the extracted file. Defaults to '../data/gdp_ppp.csv'.\n",
    "    \n",
    "    Returns:\n",
    "    None\n",
    "    \"\"\"\n",
    "    print(f\"Downloading data from the World Bank API {url} to {destination_file} ...\")\n",
    "    # download the csv file from the World Bank API\n",
    "    response = requests.get(url)\n",
    "    # unzip the contents, find the csv file that starts with API, and save it to the data folder\n",
    "    with zipfile.ZipFile(BytesIO(response.content)) as z:\n",
    "        for filename in z.namelist():\n",
    "            if filename.startswith('API_') and filename.endswith('.csv'):\n",
    "                with open(destination_file, 'wb') as f:\n",
    "                    f.write(z.read(filename))\n",
    "                # save the csv file to the data folder as gdp_ppp.csv\n",
    "                print(f\"Downloaded {filename} to {destination_file}\")\n",
    "                break\n",
    "    "
   ]
  },
  {
   "cell_type": "code",
   "execution_count": 17,
   "metadata": {},
   "outputs": [
    {
     "data": {
      "application/vnd.jupyter.widget-view+json": {
       "model_id": "e61ccd4c3fe14164b18ee8f02bd1863a",
       "version_major": 2,
       "version_minor": 0
      },
      "text/plain": [
       "Dropdown(description='Country:', options=('Aruba', 'Africa Eastern and Southern', 'Afghanistan', 'Africa Weste…"
      ]
     },
     "metadata": {},
     "output_type": "display_data"
    },
    {
     "data": {
      "application/vnd.jupyter.widget-view+json": {
       "model_id": "8ac6b9d0de04407092680c11bb88d113",
       "version_major": 2,
       "version_minor": 0
      },
      "text/plain": [
       "Output()"
      ]
     },
     "metadata": {},
     "output_type": "display_data"
    }
   ],
   "source": [
    "# check if data folder has the gdp-ppp csv file\n",
    "# if not, download it from the World Bank API\n",
    "\n",
    "data_folder = Path(\"../data\")\n",
    "data_folder.mkdir(exist_ok=True)\n",
    "csv_file = data_folder.joinpath(\"gdp_ppp.csv\")\n",
    "#TODO: look at the lates data on the World Bank API and compare its metadata with the one in the csv file, \n",
    "# if they are different, download the new csv file\n",
    "if not csv_file.exists():\n",
    "    download_extract_gdp_data(destination_file=csv_file) \n",
    "# read the csv file into a pandas dataframe\n",
    "df = pd.read_csv(csv_file, skiprows=4)\n",
    "# ask the user for the country name\n",
    "# get the list of countries from the dataframe\n",
    "countries = df['Country Name'].unique()\n",
    "# create a dropdown widget for the country name\n",
    "country_dropdown = widgets.Dropdown(\n",
    "    options=countries,\n",
    "    description='Country:',\n",
    "    disabled=False,\n",
    ")\n",
    "\n",
    "output = widgets.Output()\n",
    "\n",
    "#create a 1-line table all available gdp data for the selected country\n",
    "def display_country_data(country_name):\n",
    "    \"\"\"\n",
    "    Display the GDP data for the selected country.\n",
    "    \n",
    "    Parameters:\n",
    "    country_name (str): The name of the country to display data for.\n",
    "    \n",
    "    Returns:\n",
    "    None\n",
    "    \"\"\"\n",
    "    # filter the dataframe for the selected country\n",
    "    country_data = df[df['Country Name'] == country_name]\n",
    "    # create a 1-line table with all available gdp data for the selected country\n",
    "    display(country_data)\n",
    "    \n",
    "    \n",
    "# create a function to update the table when the country is changed\n",
    "def update_country_data(change):\n",
    "    \"\"\"\n",
    "    Update the GDP data for the selected country.\n",
    "    \n",
    "    Parameters:\n",
    "    change (dict): The change event from the dropdown widget.\n",
    "    \n",
    "    Returns:\n",
    "    None\n",
    "    \"\"\"\n",
    "    with output:\n",
    "        clear_output(wait=True)\n",
    "        display_country_data(change['new'])\n",
    "# bind the update function to the dropdown widget\n",
    "country_dropdown.observe(update_country_data, names='value')\n",
    "# display the dropdown widget\n",
    "display(country_dropdown, output)\n",
    "# display the GDP data for the selected country\n",
    "#display_country_data(country_dropdown.value)"
   ]
  },
  {
   "cell_type": "code",
   "execution_count": 15,
   "metadata": {},
   "outputs": [
    {
     "data": {
      "application/vnd.jupyter.widget-view+json": {
       "model_id": "a002fa51aea34b7fa94d4b7dd66de024",
       "version_major": 2,
       "version_minor": 0
      },
      "text/plain": [
       "Dropdown(description='Country:', options=('France', 'Germany', 'Russia'), value='France')"
      ]
     },
     "metadata": {},
     "output_type": "display_data"
    },
    {
     "data": {
      "application/vnd.jupyter.widget-view+json": {
       "model_id": "68940729eda54021bbc53d63d17e313f",
       "version_major": 2,
       "version_minor": 0
      },
      "text/plain": [
       "Output()"
      ]
     },
     "metadata": {},
     "output_type": "display_data"
    }
   ],
   "source": [
    "dropdown = widgets.Dropdown(\n",
    "    options=['France', 'Germany', 'Russia'],\n",
    "    value='France',\n",
    "    description='Country:',\n",
    ")\n",
    "\n",
    "# Create an output area (safe place for dynamic prints)\n",
    "output = widgets.Output()\n",
    "\n",
    "# Update function\n",
    "def update_selected(change):\n",
    "    with output:\n",
    "        clear_output(wait=True)\n",
    "        print(\"Selected country:\", change['new'])\n",
    "\n",
    "# Bind and display once\n",
    "dropdown.observe(update_selected, names='value')\n",
    "display(dropdown, output)\n",
    "\n",
    "# Show the initial selection\n",
    "with output:\n",
    "    print(\"Selected country:\", dropdown.value)"
   ]
  },
  {
   "cell_type": "code",
   "execution_count": null,
   "metadata": {},
   "outputs": [],
   "source": []
  }
 ],
 "metadata": {
  "kernelspec": {
   "display_name": "Python 3 (ipykernel)",
   "language": "python",
   "name": "python3"
  },
  "language_info": {
   "codemirror_mode": {
    "name": "ipython",
    "version": 3
   },
   "file_extension": ".py",
   "mimetype": "text/x-python",
   "name": "python",
   "nbconvert_exporter": "python",
   "pygments_lexer": "ipython3",
   "version": "3.12.3"
  }
 },
 "nbformat": 4,
 "nbformat_minor": 4
}
