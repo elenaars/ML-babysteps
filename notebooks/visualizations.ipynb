{
 "cells": [
  {
   "cell_type": "markdown",
   "metadata": {},
   "source": [
    "Visualization babysteps. \n",
    "We start with the code of Ch 3 of 'Data Science from scratch' by Joel Grus\n",
    "But we'll work with real gdp data"
   ]
  },
  {
   "cell_type": "code",
   "execution_count": 16,
   "metadata": {},
   "outputs": [],
   "source": [
    "# all imports at the top\n",
    "from matplotlib import pyplot as plt\n",
    "import ipywidgets as widgets\n",
    "import pandas as pd\n",
    "import requests\n",
    "import zipfile\n",
    "from io import BytesIO\n",
    "from pathlib import Path\n",
    "from IPython.display import clear_output, display\n",
    "from collections import Counter\n"
   ]
  },
  {
   "cell_type": "code",
   "execution_count": 17,
   "metadata": {},
   "outputs": [],
   "source": [
    "# helper functions\n",
    "def download_extract_gdp_data(url = 'https://api.worldbank.org/v2/en/indicator/NY.GDP.MKTP.PP.CD?downloadformat=csv', destination_file : Path = Path('../data/gdp_pcap_ppp.csv'))-> None:\n",
    "    \"\"\"\n",
    "    Download and extract GDP data from the World Bank API.\n",
    "    \n",
    "    Parameters:\n",
    "    url (str): The URL to download the data from.\n",
    "    destination_file (Path): The path to the destination file where it saves the extracted file. Defaults to '../data/gdp_ppp.csv'.\n",
    "    \n",
    "    Returns:\n",
    "    None\n",
    "    \"\"\"\n",
    "    print(f\"Downloading data from the World Bank API {url} to {destination_file} ...\")\n",
    "    # download the csv file from the World Bank API\n",
    "    response = requests.get(url)\n",
    "    # unzip the contents, find the csv file that starts with API, and save it to the data folder\n",
    "    with zipfile.ZipFile(BytesIO(response.content)) as z:\n",
    "        for filename in z.namelist():\n",
    "            if filename.startswith('API_') and filename.endswith('.csv'):\n",
    "                with open(destination_file, 'wb') as f:\n",
    "                    f.write(z.read(filename))\n",
    "                # save the csv file to the data folder as gdp_ppp.csv\n",
    "                print(f\"Downloaded {filename} to {destination_file}\")\n",
    "                break\n",
    "            \n",
    "def add_country_indicator(df: pd.DataFrame) -> pd.DataFrame:\n",
    "    \"\"\"\n",
    "    Add a non-country indicator to the DataFrame.\n",
    "    \n",
    "    Parameters:\n",
    "    df (pd.DataFrame): The DataFrame to modify.\n",
    "    \n",
    "    Returns:\n",
    "    pd.DataFrame: The modified DataFrame with an additional column indicator that the row is dedicated to a country: 1 if it is a country, 0 if it is not.\n",
    "    \"\"\"\n",
    "    #list of non-country codes \n",
    "    noncountry_codes = ['AFE','AFW','ARB', 'CEB', 'CSS', 'EAP', 'EAR', 'EAS', 'ECA', 'ECS', 'EMU', \n",
    "                    'EUU', 'FCS', 'HIC', 'HPC', 'IBD', 'IBT', 'IDA', 'IDB', 'IDX', \n",
    "                    'INX', 'LAC', 'LCN', 'LDC', 'LIC', 'LMC', 'LMY', 'LTE', 'MEA', \n",
    "                    'MIC', 'MNA', 'NAC', 'OED', 'OSS', 'PRE', 'PSS', 'PST', 'SAS', \n",
    "                    'SSA', 'SSF', 'SST', 'TEA', 'TEC', 'TLA', 'TMN', 'TSA', 'TSS',\n",
    "                    'UMC', 'WLD']\n",
    "    # add a non-country indicator to the DataFrame\n",
    "    df['Is Country'] = df['Country Code'].apply(lambda x: 0 if x in noncountry_codes else 1)\n",
    "    return df\n",
    "      "
   ]
  },
  {
   "cell_type": "code",
   "execution_count": 18,
   "metadata": {},
   "outputs": [],
   "source": [
    "# check if data folder has the gdp-ppp csv file\n",
    "# if not, download it from the World Bank API\n",
    "\n",
    "data_folder = Path(\"../data\")\n",
    "data_folder.mkdir(exist_ok=True)\n",
    "csv_file = data_folder.joinpath(\"gdp_pcap_ppp.csv\")\n",
    "#TODO: look at the lates data on the World Bank API and compare its metadata with the one in the csv file, \n",
    "# if they are different, download the new csv file\n",
    "if not csv_file.exists():\n",
    "    download_extract_gdp_data(destination_file=csv_file) \n",
    "# read the csv file into a pandas dataframe\n",
    "df = pd.read_csv(csv_file, skiprows=4) \n"
   ]
  },
  {
   "cell_type": "code",
   "execution_count": 19,
   "metadata": {},
   "outputs": [
    {
     "data": {
      "application/vnd.jupyter.widget-view+json": {
       "model_id": "6538ffbabd744f659045af9b80e7ff50",
       "version_major": 2,
       "version_minor": 0
      },
      "text/plain": [
       "Dropdown(description='Country:', options=('Afghanistan', 'Africa Eastern and Southern', 'Africa Western and Ce…"
      ]
     },
     "metadata": {},
     "output_type": "display_data"
    },
    {
     "data": {
      "application/vnd.jupyter.widget-view+json": {
       "model_id": "45032c2d6e744aacb4e44fb5c54227ba",
       "version_major": 2,
       "version_minor": 0
      },
      "text/plain": [
       "Output()"
      ]
     },
     "metadata": {},
     "output_type": "display_data"
    }
   ],
   "source": [
    "\n",
    "# ask the user for the country name\n",
    "# get the list of countries from the dataframe\n",
    "countries = df['Country Name'].unique()\n",
    "# sort the countries alphabetically\n",
    "countries = sorted(countries)\n",
    "# create a dropdown widget for the country name\n",
    "country_dropdown = widgets.Dropdown(\n",
    "    options=countries,\n",
    "    description='Country:',\n",
    "    disabled=False,\n",
    ")\n",
    "\n",
    "output = widgets.Output()\n",
    "\n",
    "#create a 1-line table all available gdp data for the selected country\n",
    "def display_country_data(country_name:str, df:pd.DataFrame) -> None:\n",
    "    \"\"\"\n",
    "    Display the GDP data for the selected country.\n",
    "    \n",
    "    Parameters:\n",
    "    country_name (str): The name of the country to display data for.\n",
    "    \n",
    "    Returns:\n",
    "    None\n",
    "    \"\"\"\n",
    "    # filter the dataframe for the first row + the row of the  selected country\n",
    "    country_data = df[df['Country Name'] == country_name]\n",
    "    country_data = country_data.iloc[0]\n",
    "    years = df.columns[4:]\n",
    "    # filter the dataframe for the years columns\n",
    "    country_data = country_data[years]\n",
    "    # rename the columns to be the years\n",
    "    country_data.columns = years\n",
    "    #drop the missing values\n",
    "    country_data = country_data.dropna()\n",
    "    # plot the data as a line chart\n",
    "    plt.figure(figsize=(12, 8))\n",
    "    plt.plot(country_data.index, country_data.values, marker='o', linestyle='-', color='violet')\n",
    "    plt.title(f\"GDP per capita (PPP) in {country_name}\")\n",
    "    plt.xlabel('Year')\n",
    "    plt.ylabel('GDP per capita (current international $)')\n",
    "    plt.xticks(rotation=45)\n",
    "    plt.grid()\n",
    "    plt.show()\n",
    "    \n",
    "    \n",
    "    \n",
    "# a function to update the table when the country is changed\n",
    "def update_country_data(change):\n",
    "    \"\"\"\n",
    "    Update the GDP data for the selected country.\n",
    "    \n",
    "    Parameters:\n",
    "    change (dict): The change event from the dropdown widget.\n",
    "    \n",
    "    Returns:\n",
    "    None\n",
    "    \"\"\"\n",
    "    with output:\n",
    "        clear_output(wait=True)\n",
    "        display_country_data(change['new'],df)\n",
    "# bind the update function to the dropdown widget\n",
    "country_dropdown.observe(update_country_data, names='value')\n",
    "# display the dropdown widget\n",
    "display(country_dropdown, output)"
   ]
  },
  {
   "cell_type": "code",
   "execution_count": 20,
   "metadata": {},
   "outputs": [
    {
     "data": {
      "application/vnd.jupyter.widget-view+json": {
       "model_id": "3fd4861b9486403a9e26999f4dd3c0d8",
       "version_major": 2,
       "version_minor": 0
      },
      "text/plain": [
       "Dropdown(description='Year 1:', options=('1990', '1991', '1992', '1993', '1994', '1995', '1996', '1997', '1998…"
      ]
     },
     "metadata": {},
     "output_type": "display_data"
    },
    {
     "data": {
      "application/vnd.jupyter.widget-view+json": {
       "model_id": "ce3442979aa149d884434987581a791d",
       "version_major": 2,
       "version_minor": 0
      },
      "text/plain": [
       "Dropdown(description='Year 2:', options=('1990', '1991', '1992', '1993', '1994', '1995', '1996', '1997', '1998…"
      ]
     },
     "metadata": {},
     "output_type": "display_data"
    },
    {
     "data": {
      "application/vnd.jupyter.widget-view+json": {
       "model_id": "033ba3eec59146e993d4ea6b51ca17f5",
       "version_major": 2,
       "version_minor": 0
      },
      "text/plain": [
       "IntSlider(value=10, continuous_update=False, description='Number of bins:', max=25, min=1)"
      ]
     },
     "metadata": {},
     "output_type": "display_data"
    },
    {
     "data": {
      "application/vnd.jupyter.widget-view+json": {
       "model_id": "2253b5b17f1d4f9eb5ce1770360d537c",
       "version_major": 2,
       "version_minor": 0
      },
      "text/plain": [
       "Button(button_style='success', description='Display GDP Change', icon='check', style=ButtonStyle(), tooltip='C…"
      ]
     },
     "metadata": {},
     "output_type": "display_data"
    },
    {
     "data": {
      "application/vnd.jupyter.widget-view+json": {
       "model_id": "45032c2d6e744aacb4e44fb5c54227ba",
       "version_major": 2,
       "version_minor": 0
      },
      "text/plain": [
       "Output()"
      ]
     },
     "metadata": {},
     "output_type": "display_data"
    }
   ],
   "source": [
    "#TODO round the edges to 5 or 10 persentiles\n",
    "#add a widget to select two years and display a hystogram for countiries' gdp change (%) between the selected years\n",
    "def display_gdp_change(year1:str, year2:str, num_bins:int, df:pd.DataFrame)->None:   \n",
    "    \"\"\"\n",
    "    Display the GDP change between two selected years for all the countires.\n",
    "    This function filters the dataframe for the two selected years and calculates the percentage change in GDP.\n",
    "    It then calculates a hystogram of the percentage change and displays it as a bar chart.\n",
    "    The function takes two parameters: year1 and year2, which are the years to compare.\n",
    "    \n",
    "    Parameters:\n",
    "    year1 (int): The first year to compare.\n",
    "    year2 (int): The second year to compare.\n",
    "    num_bins (int): The number of bins to use for the histogram.\n",
    "    df (pd.DataFrame): The DataFrame to use for the comparison.\n",
    "    \n",
    "    Returns:\n",
    "    None\n",
    "    \"\"\"\n",
    "    #add a non-country indicator to the DataFrame\n",
    "    df = add_country_indicator(df)\n",
    "    #filter the dataframe for the non-country rows\n",
    "    df = df[df['Is Country'] == 0]\n",
    "    # filter the dataframe for the two selected years\n",
    "    gdp_change = df[['Country Name', year1, year2]]\n",
    "    gdp_change = gdp_change.rename(columns={year1: 'Year1', year2: 'Year2'})\n",
    "    gdp_change = gdp_change.dropna()\n",
    "    # calculate the percentage change between the two years\n",
    "    gdp_change['Change (%)'] = ((gdp_change['Year2'] - gdp_change['Year1']) / gdp_change['Year1']) * 100\n",
    "    # sort the data frame by the percentage change\n",
    "    gdp_change = gdp_change.sort_values(by='Change (%)', ascending=False)\n",
    "    # create a histogram of the percentage change\n",
    "    histogram = pd.cut(gdp_change['Change (%)'],bins=num_bins)\n",
    "    # Get the counts and sorted bins\n",
    "    counts = histogram.value_counts().sort_index()\n",
    "    bins = histogram.cat.categories\n",
    "    # Compute edges and widths\n",
    "    edges = [interval.left for interval in bins] + [bins[-1].right]\n",
    "    left_edges = edges[:-1]\n",
    "    widths = [interval.right - interval.left for interval in bins]\n",
    "    \n",
    "    plt.title(f\"GDP Change from {year1} to {year2}\")    \n",
    "    plt.xlabel('GDP Change (%)')\n",
    "    left_edges = [i.left for i in bins]\n",
    "    print(\"left edges = \", left_edges)\n",
    "    print(\"values = \", counts)\n",
    "    plt.bar(left_edges, counts, width=widths, align='edge', color='violet')\n",
    "    plt.xticks(edges, rotation=45)\n",
    "    plt.title(f\"GDP Change from {year1} to {year2}\") \n",
    "    plt.ylabel('Country count')\n",
    "    plt.xlabel('GDP Change persentiles (%)')\n",
    "    plt.grid()\n",
    "    plt.show()\n",
    "\n",
    "# create a dropdown widget for the years\n",
    "# get the list of years from the dataframe that have data\n",
    "years = [y for y in df.columns[4:].unique() if df[y].notna().any()]\n",
    "# sort the years\n",
    "years = sorted(years)\n",
    "year1_dropdown = widgets.Dropdown(\n",
    "    options=years,\n",
    "    description='Year 1:',\n",
    "    disabled=False,\n",
    ")\n",
    "year2_dropdown = widgets.Dropdown(\n",
    "    options=years,\n",
    "    description='Year 2:',\n",
    "    disabled=False,\n",
    ")\n",
    "#create a widget for the number of bins\n",
    "num_bins_slider = widgets.IntSlider(\n",
    "    value=10,\n",
    "    min=1,\n",
    "    max=25,\n",
    "    step=1,\n",
    "    description='Number of bins:',\n",
    "    continuous_update=False,\n",
    "    disabled=False,\n",
    ")\n",
    "# create a button to display the GDP change\n",
    "gdp_change_button = widgets.Button(\n",
    "    description='Display GDP Change',\n",
    "    button_style='success',\n",
    "    tooltip='Click to display GDP change',\n",
    "    icon='check'\n",
    ")\n",
    "# bind the button to the display_gdp_change function\n",
    "def on_button_click(b):\n",
    "    \"\"\"\n",
    "    Handle the button click event to display GDP change.\n",
    "    \n",
    "    Parameters:\n",
    "    b (Button): The button that was clicked.\n",
    "    \n",
    "    Returns:\n",
    "    None\n",
    "    \"\"\"\n",
    "    with output:\n",
    "        clear_output(wait=True)\n",
    "        display_gdp_change(str(year1_dropdown.value), str(year2_dropdown.value), int(num_bins_slider.value), df)\n",
    "gdp_change_button.on_click(on_button_click)\n",
    "# display the dropdown widgets and the button\n",
    "display(year1_dropdown, year2_dropdown, num_bins_slider, gdp_change_button, output)"
   ]
  },
  {
   "cell_type": "code",
   "execution_count": null,
   "metadata": {},
   "outputs": [],
   "source": []
  }
 ],
 "metadata": {
  "kernelspec": {
   "display_name": "venv",
   "language": "python",
   "name": "python3"
  },
  "language_info": {
   "codemirror_mode": {
    "name": "ipython",
    "version": 3
   },
   "file_extension": ".py",
   "mimetype": "text/x-python",
   "name": "python",
   "nbconvert_exporter": "python",
   "pygments_lexer": "ipython3",
   "version": "3.12.3"
  }
 },
 "nbformat": 4,
 "nbformat_minor": 4
}
