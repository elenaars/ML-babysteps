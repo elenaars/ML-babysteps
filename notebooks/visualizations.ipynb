{
 "cells": [
  {
   "cell_type": "markdown",
   "metadata": {},
   "source": [
    "Visualization babysteps. \n",
    "We start with the code of Ch 3 of 'Data Science from scratch' by Joel Grus\n",
    "But we'll work with real gdp data"
   ]
  },
  {
   "cell_type": "code",
   "execution_count": 4,
   "metadata": {},
   "outputs": [],
   "source": [
    "# all imports at the top\n",
    "from matplotlib import pyplot as plt\n",
    "import ipywidgets as widgets\n",
    "import pandas as pd\n",
    "import requests\n",
    "import zipfile\n",
    "from io import BytesIO\n",
    "from pathlib import Path\n",
    "from IPython.display import clear_output, display\n"
   ]
  },
  {
   "cell_type": "code",
   "execution_count": 5,
   "metadata": {},
   "outputs": [],
   "source": [
    "# helper functions\n",
    "def download_extract_gdp_data(url = 'https://api.worldbank.org/v2/en/indicator/NY.GDP.MKTP.PP.CD?downloadformat=csv', destination_file : Path = Path('../data/gdp_ppp.csv'))-> None:\n",
    "    \"\"\"\n",
    "    Download and extract GDP data from the World Bank API.\n",
    "    \n",
    "    Parameters:\n",
    "    url (str): The URL to download the data from.\n",
    "    destination_file (Path): The path to the destination file where it saves the extracted file. Defaults to '../data/gdp_ppp.csv'.\n",
    "    \n",
    "    Returns:\n",
    "    None\n",
    "    \"\"\"\n",
    "    print(f\"Downloading data from the World Bank API {url} to {destination_file} ...\")\n",
    "    # download the csv file from the World Bank API\n",
    "    response = requests.get(url)\n",
    "    # unzip the contents, find the csv file that starts with API, and save it to the data folder\n",
    "    with zipfile.ZipFile(BytesIO(response.content)) as z:\n",
    "        for filename in z.namelist():\n",
    "            if filename.startswith('API_') and filename.endswith('.csv'):\n",
    "                with open(destination_file, 'wb') as f:\n",
    "                    f.write(z.read(filename))\n",
    "                # save the csv file to the data folder as gdp_ppp.csv\n",
    "                print(f\"Downloaded {filename} to {destination_file}\")\n",
    "                break\n",
    "    "
   ]
  },
  {
   "cell_type": "code",
   "execution_count": 7,
   "metadata": {},
   "outputs": [
    {
     "data": {
      "application/vnd.jupyter.widget-view+json": {
       "model_id": "09d1d928ac1a40a5a696335990e6e212",
       "version_major": 2,
       "version_minor": 0
      },
      "text/plain": [
       "Dropdown(description='Country:', options=('Afghanistan', 'Africa Eastern and Southern', 'Africa Western and Ce…"
      ]
     },
     "metadata": {},
     "output_type": "display_data"
    },
    {
     "data": {
      "application/vnd.jupyter.widget-view+json": {
       "model_id": "4db09651113b48f8930669a628cea475",
       "version_major": 2,
       "version_minor": 0
      },
      "text/plain": [
       "Output()"
      ]
     },
     "metadata": {},
     "output_type": "display_data"
    }
   ],
   "source": [
    "# check if data folder has the gdp-ppp csv file\n",
    "# if not, download it from the World Bank API\n",
    "\n",
    "data_folder = Path(\"../data\")\n",
    "data_folder.mkdir(exist_ok=True)\n",
    "csv_file = data_folder.joinpath(\"gdp_pcap_ppp.csv\")\n",
    "#TODO: look at the lates data on the World Bank API and compare its metadata with the one in the csv file, \n",
    "# if they are different, download the new csv file\n",
    "if not csv_file.exists():\n",
    "    download_extract_gdp_data(destination_file=csv_file) \n",
    "# read the csv file into a pandas dataframe\n",
    "df = pd.read_csv(csv_file, skiprows=4)\n",
    "# ask the user for the country name\n",
    "# get the list of countries from the dataframe\n",
    "countries = df['Country Name'].unique()\n",
    "# sort the countries alphabetically\n",
    "countries = sorted(countries)\n",
    "# create a dropdown widget for the country name\n",
    "country_dropdown = widgets.Dropdown(\n",
    "    options=countries,\n",
    "    description='Country:',\n",
    "    disabled=False,\n",
    ")\n",
    "\n",
    "output = widgets.Output()\n",
    "\n",
    "#create a 1-line table all available gdp data for the selected country\n",
    "def display_country_data(country_name):\n",
    "    \"\"\"\n",
    "    Display the GDP data for the selected country.\n",
    "    \n",
    "    Parameters:\n",
    "    country_name (str): The name of the country to display data for.\n",
    "    \n",
    "    Returns:\n",
    "    None\n",
    "    \"\"\"\n",
    "    # filter the dataframe for the first row + the row of the  selected country\n",
    "    country_data = df[df['Country Name'] == country_name]\n",
    "    country_data = country_data.iloc[0]\n",
    "    years = df.columns[4:]\n",
    "    # filter the dataframe for the years columns\n",
    "    country_data = country_data[years]\n",
    "    # rename the columns to be the years\n",
    "    country_data.columns = years\n",
    "    #drop the missing values\n",
    "    country_data = country_data.dropna()\n",
    "    # plot the data as a line chart\n",
    "    plt.figure(figsize=(12, 8))\n",
    "    plt.plot(country_data.index, country_data.values, marker='o', linestyle='-', color='violet')\n",
    "    plt.title(f\"GDP per capita (PPP) in {country_name}\")\n",
    "    plt.xlabel('Year')\n",
    "    plt.ylabel('GDP per capita (current international $)')\n",
    "    plt.xticks(rotation=45)\n",
    "    plt.grid()\n",
    "    plt.show()\n",
    "    \n",
    "    ##create a bar chart of the GDP data\n",
    "    #plt.figure(figsize=(12, 8))\n",
    "    #plt.bar(country_data.index, country_data.values, color='violet')\n",
    "    #plt.title(f\"GDP per capita in {country_name}\")\n",
    "    #plt.xlabel('Year')\n",
    "    #plt.ylabel('GDP per capita (PPP), (current international $)')\n",
    "    #plt.xticks(rotation=45)\n",
    "    #plt.grid()\n",
    "    #plt.show()\n",
    "    \n",
    "    \n",
    "    \n",
    "# a function to update the table when the country is changed\n",
    "def update_country_data(change):\n",
    "    \"\"\"\n",
    "    Update the GDP data for the selected country.\n",
    "    \n",
    "    Parameters:\n",
    "    change (dict): The change event from the dropdown widget.\n",
    "    \n",
    "    Returns:\n",
    "    None\n",
    "    \"\"\"\n",
    "    with output:\n",
    "        clear_output(wait=True)\n",
    "        display_country_data(change['new'])\n",
    "# bind the update function to the dropdown widget\n",
    "country_dropdown.observe(update_country_data, names='value')\n",
    "# display the dropdown widget\n",
    "display(country_dropdown, output)"
   ]
  },
  {
   "cell_type": "code",
   "execution_count": 8,
   "metadata": {},
   "outputs": [
    {
     "data": {
      "application/vnd.jupyter.widget-view+json": {
       "model_id": "7d8656b84b1941adbe2c28b80ea63c33",
       "version_major": 2,
       "version_minor": 0
      },
      "text/plain": [
       "Dropdown(description='Year 1:', options=('1990', '1991', '1992', '1993', '1994', '1995', '1996', '1997', '1998…"
      ]
     },
     "metadata": {},
     "output_type": "display_data"
    },
    {
     "data": {
      "application/vnd.jupyter.widget-view+json": {
       "model_id": "7f605dca8f4841c696d7dae889fa447e",
       "version_major": 2,
       "version_minor": 0
      },
      "text/plain": [
       "Dropdown(description='Year 2:', options=('1990', '1991', '1992', '1993', '1994', '1995', '1996', '1997', '1998…"
      ]
     },
     "metadata": {},
     "output_type": "display_data"
    },
    {
     "data": {
      "application/vnd.jupyter.widget-view+json": {
       "model_id": "000df06d8cc94e70a63c31ddb7b5752b",
       "version_major": 2,
       "version_minor": 0
      },
      "text/plain": [
       "Button(button_style='success', description='Display GDP Change', icon='check', style=ButtonStyle(), tooltip='C…"
      ]
     },
     "metadata": {},
     "output_type": "display_data"
    },
    {
     "data": {
      "application/vnd.jupyter.widget-view+json": {
       "model_id": "4db09651113b48f8930669a628cea475",
       "version_major": 2,
       "version_minor": 0
      },
      "text/plain": [
       "Output()"
      ]
     },
     "metadata": {},
     "output_type": "display_data"
    }
   ],
   "source": [
    "#add a widget to select two years and display a bar diagram for countiries' gdp change (%) between the selected years\n",
    "#TODO: clean the county lines, make the plot readable\n",
    "def display_gdp_change(year1:int, year2:int)->None:   \n",
    "    \"\"\"\n",
    "    Display the GDP change between two selected years for all the countires.\n",
    "    This function filters the dataframe for the two selected years and calculates the percentage change in GDP.\n",
    "    It then plots the data as a bar chart.\n",
    "    The function takes two parameters: year1 and year2, which are the years to compare.\n",
    "    \n",
    "    Parameters:\n",
    "    year1 (int): The first year to compare.\n",
    "    year2 (int): The second year to compare.\n",
    "    \n",
    "    Returns:\n",
    "    None\n",
    "    \"\"\"\n",
    "    # filter the data frame for the two selected years  \n",
    "    # get the list of countries from the dataframe\n",
    "    countries = df['Country Name'].unique()   \n",
    "    # sort the countries alphabetically\n",
    "    countries = sorted(countries)\n",
    "    # filter the dataframe for the two selected years\n",
    "    gdp_change = df[['Country Name', str(year1), str(year2)]]\n",
    "    gdp_change = gdp_change.rename(columns={year1: 'Year1', year2: 'Year2'})\n",
    "    gdp_change = gdp_change.dropna()\n",
    "    # calculate the percentage change between the two years\n",
    "    gdp_change['Change (%)'] = ((gdp_change['Year2'] - gdp_change['Year1']) / gdp_change['Year1']) * 100\n",
    "    # sort the data frame by the percentage change\n",
    "    gdp_change = gdp_change.sort_values(by='Change (%)', ascending=False)\n",
    "    # plot the data as a bar chart\n",
    "    plt.figure(figsize=(20, 8))\n",
    "    plt.bar(gdp_change['Country Name'], gdp_change['Change (%)'], color='violet')\n",
    "    plt.title(f\"GDP Change from {year1} to {year2}\")\n",
    "    plt.xlabel('Country')\n",
    "    plt.ylabel('GDP Change (%)')\n",
    "    plt.xticks(rotation=45)\n",
    "    plt.grid()\n",
    "    plt.show()\n",
    "# create a dropdown widget for the years\n",
    "# get the list of years from the dataframe that have data\n",
    "years = [y for y in df.columns[4:].unique() if df[y].notna().any()]\n",
    "# sort the years\n",
    "years = sorted(years)\n",
    "year1_dropdown = widgets.Dropdown(\n",
    "    options=years,\n",
    "    description='Year 1:',\n",
    "    disabled=False,\n",
    ")\n",
    "year2_dropdown = widgets.Dropdown(\n",
    "    options=years,\n",
    "    description='Year 2:',\n",
    "    disabled=False,\n",
    ")\n",
    "# create a button to display the GDP change\n",
    "gdp_change_button = widgets.Button(\n",
    "    description='Display GDP Change',\n",
    "    button_style='success',\n",
    "    tooltip='Click to display GDP change',\n",
    "    icon='check'\n",
    ")\n",
    "# bind the button to the display_gdp_change function\n",
    "def on_button_click(b):\n",
    "    \"\"\"\n",
    "    Handle the button click event to display GDP change.\n",
    "    \n",
    "    Parameters:\n",
    "    b (Button): The button that was clicked.\n",
    "    \n",
    "    Returns:\n",
    "    None\n",
    "    \"\"\"\n",
    "    with output:\n",
    "        clear_output(wait=True)\n",
    "        display_gdp_change(str(year1_dropdown.value), str(year2_dropdown.value))\n",
    "gdp_change_button.on_click(on_button_click)\n",
    "# display the dropdown widgets and the button\n",
    "display(year1_dropdown, year2_dropdown, gdp_change_button, output)"
   ]
  },
  {
   "cell_type": "code",
   "execution_count": null,
   "metadata": {},
   "outputs": [],
   "source": []
  }
 ],
 "metadata": {
  "kernelspec": {
   "display_name": "venv",
   "language": "python",
   "name": "python3"
  },
  "language_info": {
   "codemirror_mode": {
    "name": "ipython",
    "version": 3
   },
   "file_extension": ".py",
   "mimetype": "text/x-python",
   "name": "python",
   "nbconvert_exporter": "python",
   "pygments_lexer": "ipython3",
   "version": "3.12.3"
  }
 },
 "nbformat": 4,
 "nbformat_minor": 4
}
