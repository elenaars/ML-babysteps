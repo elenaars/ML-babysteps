{
 "cells": [
  {
   "cell_type": "markdown",
   "metadata": {},
   "source": [
    "Visualization babysteps. \n",
    "We start with the code of Ch 3 of 'Data Science from scratch' by Joel Grus\n",
    "But we'll work with real gdp data"
   ]
  },
  {
   "cell_type": "code",
   "execution_count": 13,
   "metadata": {},
   "outputs": [],
   "source": [
    "# all imports at the top\n",
    "from matplotlib import pyplot as plt\n",
    "import ipywidgets as widgets\n",
    "import pandas as pd\n",
    "import requests\n",
    "import zipfile\n",
    "from io import BytesIO\n",
    "from pathlib import Path\n"
   ]
  },
  {
   "cell_type": "code",
   "execution_count": null,
   "metadata": {},
   "outputs": [],
   "source": [
    "# helper functions\n",
    "def download_extract_gdp_data(url = 'https://api.worldbank.org/v2/en/indicator/NY.GDP.MKTP.PP.CD?downloadformat=csv', destination_file : Path = Path('../data/gdp_ppp.csv'))-> None:\n",
    "    \"\"\"\n",
    "    Download and extract GDP data from the World Bank API.\n",
    "    \n",
    "    Parameters:\n",
    "    url (str): The URL to download the data from.\n",
    "    destination_file (Path): The path to the destination file where it saves the extracted file. Defaults to '../data/gdp_ppp.csv'.\n",
    "    \n",
    "    Returns:\n",
    "    None\n",
    "    \"\"\"\n",
    "    print(f\"Downloading data from the World Bank API {url} to {destination_file} ...\")\n",
    "    # download the csv file from the World Bank API\n",
    "    response = requests.get(url)\n",
    "    # unzip the contents, find the csv file that starts with API, and save it to the data folder\n",
    "    with zipfile.ZipFile(BytesIO(response.content)) as z:\n",
    "        for filename in z.namelist():\n",
    "            if filename.startswith('API_') and filename.endswith('.csv'):\n",
    "                with open(destination_file, 'wb') as f:\n",
    "                    f.write(z.read(filename))\n",
    "                # save the csv file to the data folder as gdp_ppp.csv\n",
    "                print(f\"Downloaded {filename} to {destination_file}\")\n",
    "                break\n",
    "    "
   ]
  },
  {
   "cell_type": "code",
   "execution_count": 15,
   "metadata": {},
   "outputs": [
    {
     "name": "stdout",
     "output_type": "stream",
     "text": [
      "Downloading data from the World Bank API https://api.worldbank.org/v2/en/indicator/NY.GDP.MKTP.PP.CD?downloadformat=csv to ../data/gdp_ppp.csv...\n",
      "Downloaded API_NY.GDP.MKTP.PP.CD_DS2_en_csv_v2_13534.csv to ../data/gdp_ppp.csv\n"
     ]
    }
   ],
   "source": [
    "# check if data folder has the gdp-ppp csv file\n",
    "# if not, download it from the World Bank API\n",
    "\n",
    "data_folder = Path(\"../data\")\n",
    "data_folder.mkdir(exist_ok=True)\n",
    "csv_file = data_folder.joinpath(\"gdp_ppp.csv\")\n",
    "#TODO: look at the lates data on the World Bank API and compare its metadata with the one in the csv file, \n",
    "# if they are different, download the new csv file\n",
    "if not csv_file.exists():\n",
    "    download_extract_gdp_data(destination_file=csv_file) \n",
    "# read the csv file into a pandas dataframe\n",
    "df = pd.read_csv(csv_file, skiprows=4)"
   ]
  },
  {
   "cell_type": "code",
   "execution_count": null,
   "metadata": {},
   "outputs": [],
   "source": []
  }
 ],
 "metadata": {
  "kernelspec": {
   "display_name": "venv",
   "language": "python",
   "name": "python3"
  },
  "language_info": {
   "codemirror_mode": {
    "name": "ipython",
    "version": 3
   },
   "file_extension": ".py",
   "mimetype": "text/x-python",
   "name": "python",
   "nbconvert_exporter": "python",
   "pygments_lexer": "ipython3",
   "version": "3.12.3"
  }
 },
 "nbformat": 4,
 "nbformat_minor": 2
}
